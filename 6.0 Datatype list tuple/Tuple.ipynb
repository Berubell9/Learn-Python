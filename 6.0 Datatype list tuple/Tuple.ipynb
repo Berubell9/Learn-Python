{
 "cells": [
  {
   "cell_type": "code",
   "execution_count": 2,
   "metadata": {},
   "outputs": [
    {
     "name": "stdout",
     "output_type": "stream",
     "text": [
      "Computer\n"
     ]
    }
   ],
   "source": [
    "a = {\n",
    "    \"name\": \"bell\",\n",
    "    \"old\": 18,\n",
    "    \"favorite\": \"Computer\"\n",
    "    }\n",
    "print(a[\"favorite\"])"
   ]
  },
  {
   "cell_type": "code",
   "execution_count": 4,
   "metadata": {},
   "outputs": [
    {
     "name": "stdout",
     "output_type": "stream",
     "text": [
      "มีอักษร 3 ตัว\n"
     ]
    }
   ],
   "source": [
    "# len(ตัวเเปร) = จำนวนค่าใน tuple\n",
    "color = (\"red\",\"green\",\"blue\")\n",
    "print(\"มีอักษร\",len(color),\"ตัว\")"
   ]
  }
 ],
 "metadata": {
  "interpreter": {
   "hash": "be0d47e84fc7e33404042284385234951e1b0faf579e24fe77c71b4cdf8dd2cc"
  },
  "kernelspec": {
   "display_name": "Python 3.9.5 64-bit",
   "language": "python",
   "name": "python3"
  },
  "language_info": {
   "codemirror_mode": {
    "name": "ipython",
    "version": 3
   },
   "file_extension": ".py",
   "mimetype": "text/x-python",
   "name": "python",
   "nbconvert_exporter": "python",
   "pygments_lexer": "ipython3",
   "version": "3.9.5"
  },
  "orig_nbformat": 4
 },
 "nbformat": 4,
 "nbformat_minor": 2
}
