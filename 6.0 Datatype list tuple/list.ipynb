{
 "cells": [
  {
   "cell_type": "code",
   "execution_count": 1,
   "metadata": {},
   "outputs": [
    {
     "name": "stdout",
     "output_type": "stream",
     "text": [
      "1\n",
      "2\n",
      "3\n",
      "bell\n"
     ]
    }
   ],
   "source": [
    "a = [1, 2, 3, \"bell\"] #เรียงเริ่มจาก 0 1 2 3 .....\n",
    "print(a[0]) #1\n",
    "print(a[1]) #2\n",
    "print(a[2]) #3\n",
    "print(a[3]) #bell"
   ]
  },
  {
   "cell_type": "code",
   "execution_count": 3,
   "metadata": {},
   "outputs": [
    {
     "name": "stdout",
     "output_type": "stream",
     "text": [
      "50\n"
     ]
    }
   ],
   "source": [
    "a = [1, 2, 3, \"bell\"]\n",
    "a[0] = 50 #เปลี่ยนค่าใน List จาก 1 เป็น 50 ของตำเเหน่งที่ 0\n",
    "print(a[0])"
   ]
  },
  {
   "cell_type": "code",
   "execution_count": 1,
   "metadata": {},
   "outputs": [
    {
     "name": "stdout",
     "output_type": "stream",
     "text": [
      "['Python', 'C++', 'Ruby']\n"
     ]
    }
   ],
   "source": [
    "a = ['Python', 'Java', 'C++', 'Ruby']\n",
    "del a[1] #del ลบสมาชิกออกจากตำเเหน่ง\n",
    "print(a) "
   ]
  },
  {
   "cell_type": "code",
   "execution_count": 7,
   "metadata": {},
   "outputs": [
    {
     "name": "stdout",
     "output_type": "stream",
     "text": [
      "['Python', 'Java', 'Ruby']\n"
     ]
    }
   ],
   "source": [
    "# ตัวเเปร.remove() = ลบค่าที่มีค่านั้นออกจาก List\n",
    "a = ['Python', 'Java', 'C++', 'Ruby']\n",
    "a.remove('C++') \n",
    "print(a) "
   ]
  },
  {
   "cell_type": "code",
   "execution_count": 8,
   "metadata": {},
   "outputs": [
    {
     "name": "stdout",
     "output_type": "stream",
     "text": [
      "['Python', 'Java', 'C++', 'Ruby', 'C#']\n"
     ]
    }
   ],
   "source": [
    "# ตัวเเปร.append() = เพิ่มค่าเข้าไปใน list\n",
    "a = ['Python', 'Java', 'C++', 'Ruby']\n",
    "a.append(\"C#\")\n",
    "print(a)"
   ]
  },
  {
   "cell_type": "code",
   "execution_count": 11,
   "metadata": {},
   "outputs": [
    {
     "name": "stdout",
     "output_type": "stream",
     "text": [
      "['C#', 'Python', 'Java', 'C++', 'Ruby']\n"
     ]
    }
   ],
   "source": [
    "# ตัวเเปร.insert(ตัวเเหน่ง ,\"ค่า\") = เพิ่มค่าเข้าไปใน list กำหนดตำเเหน่ง\n",
    "a = ['Python', 'Java', 'C++', 'Ruby']\n",
    "a.insert(0 ,\"C#\")\n",
    "print(a)"
   ]
  }
 ],
 "metadata": {
  "interpreter": {
   "hash": "be0d47e84fc7e33404042284385234951e1b0faf579e24fe77c71b4cdf8dd2cc"
  },
  "kernelspec": {
   "display_name": "Python 3.9.5 64-bit",
   "language": "python",
   "name": "python3"
  },
  "language_info": {
   "codemirror_mode": {
    "name": "ipython",
    "version": 3
   },
   "file_extension": ".py",
   "mimetype": "text/x-python",
   "name": "python",
   "nbconvert_exporter": "python",
   "pygments_lexer": "ipython3",
   "version": "3.9.5"
  },
  "orig_nbformat": 4
 },
 "nbformat": 4,
 "nbformat_minor": 2
}
