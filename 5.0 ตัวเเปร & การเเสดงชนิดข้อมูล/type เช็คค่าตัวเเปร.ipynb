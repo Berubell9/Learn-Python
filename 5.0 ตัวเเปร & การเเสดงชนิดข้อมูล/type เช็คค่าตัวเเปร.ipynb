{
 "cells": [
  {
   "cell_type": "code",
   "execution_count": 1,
   "metadata": {},
   "outputs": [
    {
     "name": "stdout",
     "output_type": "stream",
     "text": [
      "<class 'int'>\n",
      "<class 'str'>\n",
      "<class 'str'>\n",
      "<class 'float'>\n"
     ]
    }
   ],
   "source": [
    "print(type(9))\n",
    "print(type(\"Hello\"))\n",
    "print(type(\"9\"))\n",
    "print(type(5.5))"
   ]
  },
  {
   "cell_type": "code",
   "execution_count": 4,
   "metadata": {},
   "outputs": [
    {
     "name": "stdout",
     "output_type": "stream",
     "text": [
      "<class 'str'>\n",
      "<class 'int'>\n",
      "<class 'float'>\n"
     ]
    }
   ],
   "source": [
    "x = str(3)\n",
    "y = int(3) \n",
    "z = float(3) \n",
    "print(type(x))\n",
    "print(type(y))\n",
    "print(type(z))"
   ]
  }
 ],
 "metadata": {
  "interpreter": {
   "hash": "be0d47e84fc7e33404042284385234951e1b0faf579e24fe77c71b4cdf8dd2cc"
  },
  "kernelspec": {
   "display_name": "Python 3.9.5 64-bit",
   "language": "python",
   "name": "python3"
  },
  "language_info": {
   "codemirror_mode": {
    "name": "ipython",
    "version": 3
   },
   "file_extension": ".py",
   "mimetype": "text/x-python",
   "name": "python",
   "nbconvert_exporter": "python",
   "pygments_lexer": "ipython3",
   "version": "3.9.5"
  },
  "orig_nbformat": 4
 },
 "nbformat": 4,
 "nbformat_minor": 2
}
