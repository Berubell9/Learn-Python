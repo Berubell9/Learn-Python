{
 "cells": [
  {
   "cell_type": "code",
   "execution_count": 10,
   "metadata": {},
   "outputs": [
    {
     "name": "stdout",
     "output_type": "stream",
     "text": [
      "มีตัวอักษร 11\n"
     ]
    }
   ],
   "source": [
    "# len(ตัวเเปร) เช็คจำนวนตัวอักษร\n",
    "a = \"Hello World\"\n",
    "print(\"มีตัวอักษร\",len(a))"
   ]
  },
  {
   "cell_type": "code",
   "execution_count": 11,
   "metadata": {},
   "outputs": [
    {
     "name": "stdout",
     "output_type": "stream",
     "text": [
      "hello world\n"
     ]
    }
   ],
   "source": [
    "# ตัวเเเปร.lower() เเปลงอักษรเป็นพิมพ์เล็ก\n",
    "a = \"HELLO WORLD\"\n",
    "print(a.lower())"
   ]
  },
  {
   "cell_type": "code",
   "execution_count": 13,
   "metadata": {},
   "outputs": [
    {
     "name": "stdout",
     "output_type": "stream",
     "text": [
      "HELLO WORLD\n"
     ]
    }
   ],
   "source": [
    "# ตัวเเเปร.upper() เเปลงอักษรเป็นพิมพ์ใหญ่\n",
    "a = \"hello world\"\n",
    "print(a.upper())"
   ]
  },
  {
   "cell_type": "code",
   "execution_count": 16,
   "metadata": {},
   "outputs": [
    {
     "name": "stdout",
     "output_type": "stream",
     "text": [
      "['Hello', 'World']\n"
     ]
    }
   ],
   "source": [
    "# ตัวเเเปร.split() เเปลงอักษรเป็น list\n",
    "a = \"Hello World\"\n",
    "print(a.split())"
   ]
  },
  {
   "cell_type": "code",
   "execution_count": 20,
   "metadata": {},
   "outputs": [
    {
     "name": "stdout",
     "output_type": "stream",
     "text": [
      "Hello world\n"
     ]
    }
   ],
   "source": [
    "# ตัวเเเปร.capitalize() เเปลงอักษรตัวเเรกให้เป็นตัวพิมพ์ใหญ่\n",
    "a = \"hello world\"\n",
    "print(a.capitalize())"
   ]
  }
 ],
 "metadata": {
  "interpreter": {
   "hash": "be0d47e84fc7e33404042284385234951e1b0faf579e24fe77c71b4cdf8dd2cc"
  },
  "kernelspec": {
   "display_name": "Python 3.9.5 64-bit",
   "language": "python",
   "name": "python3"
  },
  "language_info": {
   "codemirror_mode": {
    "name": "ipython",
    "version": 3
   },
   "file_extension": ".py",
   "mimetype": "text/x-python",
   "name": "python",
   "nbconvert_exporter": "python",
   "pygments_lexer": "ipython3",
   "version": "3.9.5"
  },
  "orig_nbformat": 4
 },
 "nbformat": 4,
 "nbformat_minor": 2
}
